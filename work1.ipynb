{
  "nbformat": 4,
  "nbformat_minor": 0,
  "metadata": {
    "colab": {
      "provenance": [],
      "authorship_tag": "ABX9TyOEDm4Y5LYTLHnAMcphCRvp",
      "include_colab_link": true
    },
    "kernelspec": {
      "name": "python3",
      "display_name": "Python 3"
    },
    "language_info": {
      "name": "python"
    }
  },
  "cells": [
    {
      "cell_type": "markdown",
      "metadata": {
        "id": "view-in-github",
        "colab_type": "text"
      },
      "source": [
        "<a href=\"https://colab.research.google.com/github/maxryb2005/lab4/blob/main/Untitled6.ipynb\" target=\"_parent\"><img src=\"https://colab.research.google.com/assets/colab-badge.svg\" alt=\"Open In Colab\"/></a>"
      ]
    },
    {
      "cell_type": "code",
      "execution_count": 1,
      "metadata": {
        "colab": {
          "base_uri": "https://localhost:8080/"
        },
        "id": "XFetRFmBzFMj",
        "outputId": "d5069ee0-b73d-4f6f-d57c-33b1c4e525a6"
      },
      "outputs": [
        {
          "output_type": "stream",
          "name": "stdout",
          "text": [
            "[8, 7, 6, 9, 5, 7, 5, 6, 4, 7]\n"
          ]
        }
      ],
      "source": [
        "import random\n",
        "rand_list = []\n",
        "n=10\n",
        "for i in range (n):\n",
        "  rand_list.append(random.randint(3,9))\n",
        "print(rand_list)\n"
      ]
    },
    {
      "cell_type": "code",
      "source": [
        "res = random.sample(range(1,50),7)\n",
        "print (\"Случайное число: \", str(res))"
      ],
      "metadata": {
        "colab": {
          "base_uri": "https://localhost:8080/"
        },
        "id": "YT-3Sodiz5tf",
        "outputId": "348e6750-1480-498d-f736-63e57df0d5f9"
      },
      "execution_count": 3,
      "outputs": [
        {
          "output_type": "stream",
          "name": "stdout",
          "text": [
            "Случайное число:  [6, 3, 49, 28, 32, 33, 27]\n"
          ]
        }
      ]
    },
    {
      "cell_type": "code",
      "source": [
        "res = [random.randrange(1,50,1) for i in range(7)]\n",
        "print (\"Случайное число: \", str(res))"
      ],
      "metadata": {
        "colab": {
          "base_uri": "https://localhost:8080/"
        },
        "id": "8sl9B3w-0Wyg",
        "outputId": "6979cf21-54e3-4939-fbbb-ab7600884676"
      },
      "execution_count": 4,
      "outputs": [
        {
          "output_type": "stream",
          "name": "stdout",
          "text": [
            "Случайное число:  [8, 14, 40, 47, 12, 5, 42]\n"
          ]
        }
      ]
    },
    {
      "cell_type": "code",
      "source": [
        "lis = []\n",
        "for _ in range (10):\n",
        "  lis.append(random.randint(0,51))\n",
        "print(lis)"
      ],
      "metadata": {
        "colab": {
          "base_uri": "https://localhost:8080/"
        },
        "id": "gGVLe-Z102Kb",
        "outputId": "e27126cf-5f15-4503-cc66-6514ea148dee"
      },
      "execution_count": 5,
      "outputs": [
        {
          "output_type": "stream",
          "name": "stdout",
          "text": [
            "[42, 6, 46, 11, 36, 43, 11, 32, 16, 9]\n"
          ]
        }
      ]
    },
    {
      "cell_type": "code",
      "source": [
        "import numpy\n",
        "print(list(numpy.random.randint(low=3, high=8, size=10)))\n",
        "print(list(numpy.random.randint(low = 3,size=5)))"
      ],
      "metadata": {
        "colab": {
          "base_uri": "https://localhost:8080/"
        },
        "id": "G__kcOi71JiK",
        "outputId": "671f053b-b5a9-4d6f-bdc7-2aea6e4648e1"
      },
      "execution_count": 8,
      "outputs": [
        {
          "output_type": "stream",
          "name": "stdout",
          "text": [
            "[6, 3, 7, 3, 6, 5, 5, 4, 4, 6]\n",
            "[0, 0, 0, 1, 0]\n"
          ]
        }
      ]
    },
    {
      "cell_type": "code",
      "source": [
        "print(numpy.random.random_sample(size = 4))\n",
        "print(numpy.random.random_sample(size = (4,4)))"
      ],
      "metadata": {
        "colab": {
          "base_uri": "https://localhost:8080/"
        },
        "id": "CGAbz1RK1n0M",
        "outputId": "b80bd19b-f0d1-4227-f696-95b180499ab9"
      },
      "execution_count": 9,
      "outputs": [
        {
          "output_type": "stream",
          "name": "stdout",
          "text": [
            "[0.11343136 0.75960645 0.44760851 0.3903625 ]\n",
            "[[0.78009297 0.93833501 0.70393763 0.41860409]\n",
            " [0.24731162 0.68574005 0.02986875 0.69154861]\n",
            " [0.99369319 0.71837024 0.14283533 0.05209827]\n",
            " [0.66310653 0.50716031 0.19936207 0.55082855]]\n"
          ]
        }
      ]
    },
    {
      "cell_type": "markdown",
      "source": [],
      "metadata": {
        "id": "QuN7gBZD0rTt"
      }
    }
  ]
}
